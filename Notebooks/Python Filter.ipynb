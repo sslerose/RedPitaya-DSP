{
 "cells": [
  {
   "cell_type": "markdown",
   "metadata": {},
   "source": [
    "# Trapezoid Filter on Exponentially Decaying Signal (Python Implementation)\n",
    "For the base understanding of the Trapezoid shaper and for checking future projects, we'll generate a signal and acquire data when the signal reaches a specified voltage threshold using the Red Pitaya Python API. We'll then shape the output within JupyterLab.\n",
    "\n",
    "**Note:**  \n",
    "The voltage range of fast analog inputs on the Red Pitaya depends on the input jumper position. HV sets the input range to ±20 V, while LV sets the input range to ±1 V. For more information, please read the following [chapter](https://redpitaya.readthedocs.io/en/latest/developerGuide/hardware/125-14/fastIO.html#analog-inputs).\n",
    "\n",
    "Create a loop-back from fast analog outputs to fast analog inputs, the same as was done in the \"Triggering with a threshold on channel\" example. Set jumpers to ±1 V (LV).\n",
    "\n",
    "![Fast loop back](img/FastIOLoopBack.png \"Example of the fast loop back.\")"
   ]
  },
  {
   "cell_type": "markdown",
   "metadata": {},
   "source": [
    "## Libraries and FPGA image\n",
    "\n",
    "We need the additional functionality of *numpy* and *matplotlib* for data plotting and faster array operations."
   ]
  },
  {
   "cell_type": "code",
   "execution_count": null,
   "metadata": {},
   "outputs": [],
   "source": [
    "import time\n",
    "import numpy as np\n",
    "from matplotlib import pyplot as plt\n",
    "from rp_overlay import overlay\n",
    "import rp\n",
    "\n",
    "fpga = overlay()\n",
    "rp.rp_Init()"
   ]
  },
  {
   "cell_type": "markdown",
   "metadata": {},
   "source": [
    "## Macros\n",
    "Throughout this tutorial we will mention macros multiple times. Here is a complete list of macros that will come in handy when customising this notebook. The marcos are a part of the **rp** library.\n",
    "\n",
    "- **Decimation** - RP_DEC_1, RP_DEC_2, RP_DEC_4, RP_DEC_8, RP_DEC_16, RP_DEC_32, RP_DEC_64, RP_DEC_128, RP_DEC_256, RP_DEC_512, RP_DEC_1024, RP_DEC_2048, RP_DEC_4096, RP_DEC_8192, RP_DEC_16384, RP_DEC_32768, RP_DEC_65536 \n",
    "- **Acquisition trigger** - RP_TRIG_SRC_DISABLED, RP_TRIG_SRC_NOW, RP_TRIG_SRC_CHA_PE, RP_TRIG_SRC_CHA_NE, RP_TRIG_SRC_CHB_PE, RP_TRIG_SRC_CHB_NE, RP_TRIG_SRC_EXT_PE, RP_TRIG_SRC_EXT_NE, RP_TRIG_SRC_AWG_PE, RP_TRIG_SRC_AWG_NE\n",
    "- **Acquisition trigger state** - RP_TRIG_STATE_TRIGGERED, RP_TRIG_STATE_WAITING\n",
    "- **Buffer size** - ADC_BUFFER_SIZE, DAC_BUFFER_SIZE\n",
    "- **Fast analog channels** - RP_CH_1, RP_CH_2\n",
    "\n",
    "SIGNALlab 250-12 only:\n",
    "- **Input coupling** - RP_DC, RP_AC\n",
    "\n",
    "STEMlab 125-14 4-Input only:\n",
    "- **Fast analog channels** - RP_CH_3, RP_CH_4\n",
    "- **Acquisition trigger** - RP_TRIG_SRC_CHC_PE, RP_TRIG_SRC_CHC_NE, RP_TRIG_SRC_CHD_PE, RP_TRIG_SRC_CHD_NE\n"
   ]
  },
  {
   "cell_type": "markdown",
   "metadata": {},
   "source": [
    "## Theory\n",
    "When it comes to data acquisition, there are certain terms we must be familiar with to understand how the acquisition works and correctly set it up. Here are a few terms that might be unknown to beginners in this field:\n",
    "\n",
    "- **Triggering moment** - The point in time where the trigger condition is met and the instrument starts capturing data. \n",
    "- **Trigger condition** - Composed of trigger level and signal front.\n",
    "- **Trigger level** - the value of the input signal in Volts at which the acquisition will start\n",
    "- **Signal front** - also reffered to as **positive/negative edge** (mostly used for digital logic). The point in time where a signal becomes *high* is called a positive edge, while the moment it becomes *low* is a negative edge. With analog signals, this refers to how the signal crosses the trigger level. A positive edge means the signal must be lower and rise to the trigger level, and for a negative edge, the signal must be higher and fall to the trigger level to meet the trigger condition.  \n",
    "- **Decimation** - Refers to how many samples are skipped before a sample is saved. For example, if we set decimation to 10, Red Pitaya saves every tenth sample, while the other nine are discarded. Indirectly defines the sampling frequency.\n",
    "- **Averaging** - When decimation is higher than one, each saved sample is an average of all skipped samples. By default, this is turned *on*.\n",
    "- **Acquisition units** - The units can either be set to *RAW*, where the value is taken directly from the Red Pitaya's ADC, or *Volts*, where Red Pitaya automatically performs the conversion. By default, this is set to *Volts*.\n",
    "- **Trigger delay** - Defines how many samples the triggering moment is delayed. If the trigger delay is set to 0, the triggering moment is in the middle of the returned data buffer. A positive trigger delay moves the triggering moment towards the start of the buffer, and a negative trigger delay moves it towards the end of the buffer. By default, this is set to 0."
   ]
  },
  {
   "cell_type": "markdown",
   "metadata": {},
   "source": [
    "## Trigger level\n",
    "\n",
    "For the purposes of demonstartion we will first generate a signal on Red Pitaya's outputs and then acquire it on the inputs. The so-called \"loopback\" does not have many applications in practice, but is perfect for this demonstration. In practice, an external signal is applied directly to the Red Pitaya's inputs."
   ]
  },
  {
   "cell_type": "code",
   "execution_count": 3,
   "metadata": {},
   "outputs": [],
   "source": [
    "# Generator parameters\n",
    "channel = rp.RP_CH_1\n",
    "channel2 = rp.RP_CH_2\n",
    "waveform = rp.RP_WAVEFORM_ARBITRARY\n",
    "freq = 10000\n",
    "ampl = 1.0\n",
    "\n",
    "# Acquisition paramters\n",
    "dec = rp.RP_DEC_1\n",
    "\n",
    "trig_lvl = 0.5\n",
    "trig_dly = 0\n",
    "\n",
    "acq_trig_sour = rp.RP_TRIG_SRC_NOW\n",
    "N = 16384\n",
    "\n",
    "# Exponential pulse waveform\n",
    "exp_pulse = rp.arbBuffer(N)\n",
    "exp_temp = np.zeros(N)\n",
    "\n",
    "tau = 500\n",
    "lead_samples = 5000\n",
    "\n",
    "for i in range(0, N, 1):\n",
    "    if i < lead_samples:\n",
    "        exp_temp[i] = 0\n",
    "    else:\n",
    "        exp_temp[i] = ampl * np.exp(-(i - lead_samples) / tau)\n",
    "\n",
    "for i in range(0, N, 1):\n",
    "    exp_pulse[i] = float(exp_temp[i])\n",
    "\n",
    "#plt.plot(exp_temp)"
   ]
  },
  {
   "cell_type": "markdown",
   "metadata": {},
   "source": [
    "Above are the parameters for the generation and acquisition. We set the acquisition trigger to IN1 positive edge 0.5 V.\n",
    "\n",
    "Now, we are going to reset both acquisition and generation parameters and configure the generator."
   ]
  },
  {
   "cell_type": "code",
   "execution_count": null,
   "metadata": {},
   "outputs": [],
   "source": [
    "rp.rp_GenReset()\n",
    "rp.rp_AcqReset()\n",
    "\n",
    "###### Generation #####\n",
    "# OUT1\n",
    "print(\"Gen_start\")\n",
    "rp.rp_GenWaveform(channel, waveform)\n",
    "rp.rp_GenArbWaveform(channel, exp_pulse.cast(), N)\n",
    "rp.rp_GenFreqDirect(channel, freq)\n",
    "rp.rp_GenAmp(channel, ampl)\n",
    "\n",
    "# OUT2\n",
    "rp.rp_GenWaveform(channel2, waveform)\n",
    "rp.rp_GenArbWaveform(channel2, exp_pulse.cast(), N)\n",
    "rp.rp_GenFreqDirect(channel2, freq)\n",
    "rp.rp_GenAmp(channel2, ampl)\n",
    "\n",
    "# Specify generator trigger source\n",
    "rp.rp_GenTriggerSource(channel, rp.RP_GEN_TRIG_SRC_INTERNAL)\n",
    "\n",
    "# Enable output synchronisation\n",
    "rp.rp_GenOutEnableSync(True)\n",
    "rp.rp_GenSynchronise()"
   ]
  },
  {
   "cell_type": "markdown",
   "metadata": {},
   "source": [
    "After configuring the acquisition parameters, we need to start the acquisition and set the acquisition trigger source. The order of the two commands is extremely important here! **Acquisition must be started before the acquisition trigger is specified!**"
   ]
  },
  {
   "cell_type": "code",
   "execution_count": null,
   "metadata": {},
   "outputs": [],
   "source": [
    "##### Acquisition #####\n",
    "# Set Decimation\n",
    "rp.rp_AcqSetDecimation(rp.RP_DEC_1)\n",
    "\n",
    "# Set trigger level and delay\n",
    "rp.rp_AcqSetTriggerLevel(rp.RP_T_CH_1, trig_lvl)\n",
    "rp.rp_AcqSetTriggerDelay(trig_dly)\n",
    "\n",
    "# Start Acquisition\n",
    "print(\"Acq_start\")\n",
    "rp.rp_AcqStart()\n",
    "time.sleep(0.1)\n",
    "\n",
    "# Specify trigger - input 1 positive edge\n",
    "rp.rp_AcqSetTriggerSrc(acq_trig_sour)\n",
    "time.sleep(0.1)\n",
    "\n",
    "rp.rp_GenTriggerOnly(channel)       # Trigger generator\n",
    "\n",
    "# Trigger state\n",
    "while 1:\n",
    "    trig_state = rp.rp_AcqGetTriggerState()[1]\n",
    "    if trig_state == rp.RP_TRIG_STATE_TRIGGERED:\n",
    "        break\n",
    "\n",
    "# Fill state\n",
    "while 1:\n",
    "    if rp.rp_AcqGetBufferFillState()[1]:\n",
    "        break\n",
    "\n",
    "\n",
    "# Get data\n",
    "# RAW\n",
    "ibuff = rp.i16Buffer(N)\n",
    "res = rp.rp_AcqGetOldestDataRaw(rp.RP_CH_1, N, ibuff.cast())[1]\n",
    "\n",
    "# Volts\n",
    "fbuff = rp.fBuffer(N)\n",
    "res = rp.rp_AcqGetOldestDataV(rp.RP_CH_1, N, fbuff)[1]\n"
   ]
  },
  {
   "cell_type": "code",
   "execution_count": null,
   "metadata": {},
   "outputs": [],
   "source": [
    "data_V = np.zeros(N, dtype = float)\n",
    "data_raw = np.zeros(N, dtype = int)\n",
    "X = np.arange(0, N, 1)\n",
    "\n",
    "for i in range(0, N, 1):\n",
    "    data_V[i] = fbuff[i]\n",
    "    data_raw[i] = ibuff[i]\n",
    "\n",
    "#print(fbuff[4000])\n",
    "#print(data_V[4000])\n",
    "\n",
    "figure, axis = plt.subplots(1, 3) \n",
    "\n",
    "axis[0].plot(X, exp_temp)\n",
    "axis[0].set_title(\"Input\")\n",
    "\n",
    "axis[1].plot(X, data_V) \n",
    "axis[1].set_title(\"Volts\")\n",
    "\n",
    "axis[2].plot(X, data_raw) \n",
    "axis[2].set_title(\"RAW\") \n",
    "\n",
    "plt.show()\n",
    "\n",
    "\n",
    "# Write data to text file\n",
    "with open(\"out.txt\", \"w\", encoding=\"ascii\") as fp:\n",
    "    read_size = 0\n",
    "\n",
    "    while read_size < N:\n",
    "        for i in range(0, N):\n",
    "            fp.write(f\"{data_raw[i]:6d}\\n\")\n",
    "\n",
    "        read_size += N\n",
    "        print(f\"Saved data size {read_size}\\n\")"
   ]
  },
  {
   "cell_type": "markdown",
   "metadata": {},
   "source": [
    "And here is the data we have been looking for, nicely displayed in a graph. As you can see from the X-axis, Red Pitaya returns a 16384-sample long buffer of acquired data. The triggering moment is in the middle, around the 8192th sample (the trigger delay is 0), so half the data was acquired before the trigger and half the data after it. If the transition events are not what we are looking for, we can increase the trigger delay to get more data points after the triggering moment or decrease it (negative numbers) to get more information before the triggering event."
   ]
  },
  {
   "cell_type": "code",
   "execution_count": null,
   "metadata": {},
   "outputs": [],
   "source": [
    "# Define delays\n",
    "k = 500\n",
    "l = 750\n",
    "\n",
    "# Define array of zeros to be populated (increased length to account for rollover from delay pipeline)\n",
    "V_array = np.zeros(N + k + l + 2)\n",
    "raw_array = np.zeros(N + k + l + 2)\n",
    "data_length = N + k + l + 2\n",
    "loop_index = range(data_length)\n",
    "\n",
    "# Define multiplication factor\n",
    "#M = 1/(np.exp(freq/tau)-1)\n",
    "M = tau\n",
    "\n",
    "# Assign MSIs of s_axis_tdata the values of tdata, then keep remaining indices as zeros\n",
    "for i in loop_index:\n",
    "    if i < N:\n",
    "        V_array[i] = data_V[i]\n",
    "        raw_array[i] = data_raw[i]\n",
    "    else:\n",
    "        V_array[i] = data_V[i - N]\n",
    "        raw_array[i] = data_raw[i - N]\n",
    "\n",
    "# Define divisor for filter gain correction\n",
    "divisor = k * (M + 0.5)\n",
    "\n",
    "# Assign delay pipeline array: d^{k,l}(j) = v(j) - v(j - k) - v(j - l) + v(j - k - l)\n",
    "d_kl_V = V_array - np.roll(V_array, k) - np.roll(V_array, l) + np.roll(V_array, k + l)\n",
    "d_kl_raw = raw_array - np.roll(raw_array, k) - np.roll(raw_array, l) + np.roll(raw_array, k + l)\n",
    "\n",
    "# Use for loop to assign accumulator array p_prime: p'(n) = p'(n - 1) + d^{k,l}(n)\n",
    "p_prime_V = np.zeros(N)\n",
    "p_prime_raw = np.zeros(N)\n",
    "for i in range(N):\n",
    "    p_prime_V[i] = p_prime_V[i - 1] + d_kl_V[i]\n",
    "    p_prime_raw[i] = p_prime_raw[i - 1] + d_kl_raw[i]\n",
    "\n",
    "# Use for loop to assign final results (accumulator) array: s(n) = s(n - 1) + p'(n) + M * d^{k,l}(n)\n",
    "results_V = np.zeros(N)\n",
    "results_raw = np.zeros(N)\n",
    "for i in range(N):\n",
    "    results_V[i] = results_V[i - 1] + p_prime_V[i] + (M - 0.5) * d_kl_V[i]\n",
    "    results_raw[i] = results_raw[i - 1] + p_prime_raw[i] + (M - 0.5) * d_kl_raw[i]\n",
    "#print(results)\n",
    "\n",
    "# Print components of signal and filter\n",
    "print(\"\\nExponential Signal Peak (Volts) = \" + str(max(data_V)))\n",
    "print(\"Trapezoidal Filter Peak (Volts) = \" + str(max(results_V)))\n",
    "#print(\"Gain (Filter / Signal) = \" + str(max(results_V) / max(data_V)))\n",
    "print(\"Corrected Filter Peak (Volts) = \" + str(max(results_V) / divisor))\n",
    "\n",
    "print(\"\\nExponential Signal Peak (Raw) = \" + str(max(data_raw)))\n",
    "print(\"Trapezoidal Filter Peak (Raw) = \" + str(max(results_raw)))\n",
    "#print(\"Gain (Filter / Signal) = \" + str(max(results_raw) / max(data_raw)))\n",
    "print(\"Corrected Filter Peak (Raw) = \" + str(max(results_raw) / divisor))\n",
    "\n",
    "# Create plot for signal and gain-corrected filter\n",
    "plt.plot(data_V, label = 'Signal Input (Volts)')\n",
    "plt.plot(results_V / divisor, label = 'Filter Output (Volts)', color = 'r')\n",
    "plt.xlabel('Index')\n",
    "plt.ylabel('Amplitude')\n",
    "plt.title('Signal and Gain-Corrected Trapezoidal Filter (Volts)')\n",
    "#plt.xlim(right=80)\n",
    "plt.legend()\n",
    "plt.show()\n",
    "\n",
    "# Create plot for signal and gain-corrected filter\n",
    "plt.plot(data_raw, label = 'Signal Input (Raw)')\n",
    "plt.plot(results_raw / divisor, label = 'Filter Output (Raw)', color = 'r')\n",
    "plt.xlabel('Index')\n",
    "plt.ylabel('Amplitude')\n",
    "plt.title('Signal and Gain-Corrected Trapezoidal Filter (Raw)')\n",
    "#plt.xlim(right=80)\n",
    "plt.legend()\n",
    "plt.show()"
   ]
  },
  {
   "cell_type": "code",
   "execution_count": 26,
   "metadata": {},
   "outputs": [
    {
     "data": {
      "text/plain": [
       "0"
      ]
     },
     "execution_count": 26,
     "metadata": {},
     "output_type": "execute_result"
    }
   ],
   "source": [
    "rp.rp_Release()"
   ]
  }
 ],
 "metadata": {
  "kernelspec": {
   "display_name": "Python 3 (RP api)",
   "language": "python",
   "name": "python3"
  },
  "language_info": {
   "codemirror_mode": {
    "name": "ipython",
    "version": 3
   },
   "file_extension": ".py",
   "mimetype": "text/x-python",
   "name": "python",
   "nbconvert_exporter": "python",
   "pygments_lexer": "ipython3",
   "version": "3.10.12"
  }
 },
 "nbformat": 4,
 "nbformat_minor": 4
}
